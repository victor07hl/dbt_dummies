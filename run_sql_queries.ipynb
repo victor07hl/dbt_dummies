{
 "cells": [
  {
   "cell_type": "code",
   "execution_count": 1,
   "id": "20615482",
   "metadata": {},
   "outputs": [],
   "source": [
    "import pandas as pd\n",
    "import duckdb"
   ]
  },
  {
   "cell_type": "code",
   "execution_count": 2,
   "id": "156f23b8",
   "metadata": {},
   "outputs": [],
   "source": [
    "db_location = 'data/nyc_parking_violations.db'"
   ]
  },
  {
   "cell_type": "code",
   "execution_count": 13,
   "id": "d1b1db9b",
   "metadata": {},
   "outputs": [
    {
     "data": {
      "text/html": [
       "<div>\n",
       "<style scoped>\n",
       "    .dataframe tbody tr th:only-of-type {\n",
       "        vertical-align: middle;\n",
       "    }\n",
       "\n",
       "    .dataframe tbody tr th {\n",
       "        vertical-align: top;\n",
       "    }\n",
       "\n",
       "    .dataframe thead th {\n",
       "        text-align: right;\n",
       "    }\n",
       "</style>\n",
       "<table border=\"1\" class=\"dataframe\">\n",
       "  <thead>\n",
       "    <tr style=\"text-align: right;\">\n",
       "      <th></th>\n",
       "      <th>name</th>\n",
       "    </tr>\n",
       "  </thead>\n",
       "  <tbody>\n",
       "    <tr>\n",
       "      <th>0</th>\n",
       "      <td>bronze_parking_violation_codes</td>\n",
       "    </tr>\n",
       "    <tr>\n",
       "      <th>1</th>\n",
       "      <td>bronze_parking_violations</td>\n",
       "    </tr>\n",
       "    <tr>\n",
       "      <th>2</th>\n",
       "      <td>first_model</td>\n",
       "    </tr>\n",
       "    <tr>\n",
       "      <th>3</th>\n",
       "      <td>gold_ticket_metrics</td>\n",
       "    </tr>\n",
       "    <tr>\n",
       "      <th>4</th>\n",
       "      <td>gold_vehicles_metrics</td>\n",
       "    </tr>\n",
       "    <tr>\n",
       "      <th>5</th>\n",
       "      <td>parking_violation_2023</td>\n",
       "    </tr>\n",
       "    <tr>\n",
       "      <th>6</th>\n",
       "      <td>parking_violation_codes</td>\n",
       "    </tr>\n",
       "    <tr>\n",
       "      <th>7</th>\n",
       "      <td>ref_model</td>\n",
       "    </tr>\n",
       "    <tr>\n",
       "      <th>8</th>\n",
       "      <td>silver_parking_violations</td>\n",
       "    </tr>\n",
       "    <tr>\n",
       "      <th>9</th>\n",
       "      <td>silver_parking_violations_codes</td>\n",
       "    </tr>\n",
       "    <tr>\n",
       "      <th>10</th>\n",
       "      <td>silver_violation_tickets</td>\n",
       "    </tr>\n",
       "    <tr>\n",
       "      <th>11</th>\n",
       "      <td>silver_violation_vehicles</td>\n",
       "    </tr>\n",
       "  </tbody>\n",
       "</table>\n",
       "</div>"
      ],
      "text/plain": [
       "                               name\n",
       "0    bronze_parking_violation_codes\n",
       "1         bronze_parking_violations\n",
       "2                       first_model\n",
       "3               gold_ticket_metrics\n",
       "4             gold_vehicles_metrics\n",
       "5            parking_violation_2023\n",
       "6           parking_violation_codes\n",
       "7                         ref_model\n",
       "8         silver_parking_violations\n",
       "9   silver_parking_violations_codes\n",
       "10         silver_violation_tickets\n",
       "11        silver_violation_vehicles"
      ]
     },
     "metadata": {},
     "output_type": "display_data"
    }
   ],
   "source": [
    "sql_query = \"show tables\"\n",
    "with duckdb.connect('data/nyc_parking_violations.db') as con:\n",
    "    df_ = con.sql(sql_query).df()\n",
    "    display(df_)"
   ]
  },
  {
   "cell_type": "code",
   "execution_count": 39,
   "id": "fbe0ad48",
   "metadata": {},
   "outputs": [],
   "source": [
    "#creating the parking_violationj_codes table again\n",
    "sql_query_import_1 = '''\n",
    "create or replace table parking_violation_2023 as \n",
    "select * \n",
    "from read_csv_auto(\n",
    "    'data/parking_violations_issued_fiscal_year_2023_sample.csv',\n",
    "    normalize_names=True)\n",
    "'''\n",
    "with duckdb.connect(db_location) as con:\n",
    "    con.sql(sql_query_import_1)"
   ]
  },
  {
   "cell_type": "code",
   "execution_count": 15,
   "id": "9c3a6e20",
   "metadata": {},
   "outputs": [
    {
     "ename": "CatalogException",
     "evalue": "Catalog Error: Table with name silver_parking_violation_codes does not exist!\nDid you mean \"silver_parking_violations_codes\"?",
     "output_type": "error",
     "traceback": [
      "\u001b[31m---------------------------------------------------------------------------\u001b[39m",
      "\u001b[31mCatalogException\u001b[39m                          Traceback (most recent call last)",
      "\u001b[36mCell\u001b[39m\u001b[36m \u001b[39m\u001b[32mIn[15]\u001b[39m\u001b[32m, line 11\u001b[39m\n\u001b[32m      1\u001b[39m \u001b[38;5;66;03m#querying the created table\u001b[39;00m\n\u001b[32m      2\u001b[39m sql_query_import_2 = \u001b[33m'''\u001b[39m\u001b[33mSELECT\u001b[39m\n\u001b[32m      3\u001b[39m \u001b[33m    violation_code,\u001b[39m\n\u001b[32m      4\u001b[39m \u001b[33m    SUM(fee_usd) AS total_revenue_usd\u001b[39m\n\u001b[32m   (...)\u001b[39m\u001b[32m      9\u001b[39m \u001b[33mHAVING\u001b[39m\n\u001b[32m     10\u001b[39m \u001b[33m    NOT(total_revenue_usd >= 1)\u001b[39m\u001b[33m'''\u001b[39m\n\u001b[32m---> \u001b[39m\u001b[32m11\u001b[39m \u001b[38;5;28;43;01mwith\u001b[39;49;00m\u001b[43m \u001b[49m\u001b[43mduckdb\u001b[49m\u001b[43m.\u001b[49m\u001b[43mconnect\u001b[49m\u001b[43m(\u001b[49m\u001b[43mdb_location\u001b[49m\u001b[43m)\u001b[49m\u001b[43m \u001b[49m\u001b[38;5;28;43;01mas\u001b[39;49;00m\u001b[43m \u001b[49m\u001b[43mcon\u001b[49m\u001b[43m:\u001b[49m\n\u001b[32m     12\u001b[39m \u001b[43m    \u001b[49m\u001b[43mdisplay\u001b[49m\u001b[43m(\u001b[49m\u001b[43mcon\u001b[49m\u001b[43m.\u001b[49m\u001b[43msql\u001b[49m\u001b[43m(\u001b[49m\u001b[43msql_query_import_2\u001b[49m\u001b[43m)\u001b[49m\u001b[43m)\u001b[49m\n",
      "\u001b[36mCell\u001b[39m\u001b[36m \u001b[39m\u001b[32mIn[15]\u001b[39m\u001b[32m, line 12\u001b[39m\n\u001b[32m      2\u001b[39m sql_query_import_2 = \u001b[33m'''\u001b[39m\u001b[33mSELECT\u001b[39m\n\u001b[32m      3\u001b[39m \u001b[33m    violation_code,\u001b[39m\n\u001b[32m      4\u001b[39m \u001b[33m    SUM(fee_usd) AS total_revenue_usd\u001b[39m\n\u001b[32m   (...)\u001b[39m\u001b[32m      9\u001b[39m \u001b[33mHAVING\u001b[39m\n\u001b[32m     10\u001b[39m \u001b[33m    NOT(total_revenue_usd >= 1)\u001b[39m\u001b[33m'''\u001b[39m\n\u001b[32m     11\u001b[39m \u001b[38;5;28;01mwith\u001b[39;00m duckdb.connect(db_location) \u001b[38;5;28;01mas\u001b[39;00m con:\n\u001b[32m---> \u001b[39m\u001b[32m12\u001b[39m     display(\u001b[43mcon\u001b[49m\u001b[43m.\u001b[49m\u001b[43msql\u001b[49m\u001b[43m(\u001b[49m\u001b[43msql_query_import_2\u001b[49m\u001b[43m)\u001b[49m)\n",
      "\u001b[31mCatalogException\u001b[39m: Catalog Error: Table with name silver_parking_violation_codes does not exist!\nDid you mean \"silver_parking_violations_codes\"?"
     ]
    }
   ],
   "source": [
    "#querying the created table\n",
    "sql_query_import_2 = '''SELECT\n",
    "    violation_code,\n",
    "    SUM(fee_usd) AS total_revenue_usd\n",
    "FROM\n",
    "    silver_parking_violation_codes\n",
    "GROUP BY\n",
    "    violation_code\n",
    "HAVING\n",
    "    NOT(total_revenue_usd >= 1)'''\n",
    "with duckdb.connect(db_location) as con:\n",
    "    display(con.sql(sql_query_import_2))"
   ]
  },
  {
   "cell_type": "markdown",
   "id": "89cb2485",
   "metadata": {},
   "source": [
    "# Creating prod database"
   ]
  },
  {
   "cell_type": "code",
   "execution_count": null,
   "id": "e3f0a65c",
   "metadata": {},
   "outputs": [],
   "source": [
    "#creating the parking_violationj_codes table again\n",
    "db_prod_location = 'data/prod_nyc_parking_violations.db'\n",
    "sql_query_import_1 = '''\n",
    "create or replace table parking_violation_2023 as \n",
    "select * \n",
    "from read_csv_auto(\n",
    "    'data/dof_parking_violation_codes.csv',\n",
    "    normalize_names=True)\n",
    "'''\n",
    "with duckdb.connect(db_prod_location) as con:\n",
    "    con.sql(sql_query_import_1)"
   ]
  },
  {
   "cell_type": "code",
   "execution_count": null,
   "id": "7e5e566e",
   "metadata": {},
   "outputs": [],
   "source": []
  }
 ],
 "metadata": {
  "kernelspec": {
   "display_name": "dbt_kernel",
   "language": "python",
   "name": "dbt_ent"
  },
  "language_info": {
   "codemirror_mode": {
    "name": "ipython",
    "version": 3
   },
   "file_extension": ".py",
   "mimetype": "text/x-python",
   "name": "python",
   "nbconvert_exporter": "python",
   "pygments_lexer": "ipython3",
   "version": "3.12.4"
  }
 },
 "nbformat": 4,
 "nbformat_minor": 5
}
